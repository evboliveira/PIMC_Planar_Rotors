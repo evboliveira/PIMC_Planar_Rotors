{
 "cells": [
  {
   "cell_type": "code",
   "execution_count": 1,
   "id": "cf0b4230",
   "metadata": {},
   "outputs": [],
   "source": [
    "include(\"../src/sys_operators.jl\")\n",
    "include(\"../src/pimc_cluster_samp.jl\")\n",
    "include(\"../src/clusterization.jl\")\n",
    "\n",
    "using .Clusterization\n",
    "using .PIMC\n",
    "using .SysOperators\n",
    "using LinearAlgebra\n",
    "using Plots\n",
    "using Printf\n",
    "using SparseArrays"
   ]
  },
  {
   "cell_type": "markdown",
   "id": "4090557b",
   "metadata": {},
   "source": [
    "# NMM to test energy estimator"
   ]
  },
  {
   "cell_type": "markdown",
   "id": "127f6cf7",
   "metadata": {},
   "source": [
    "### N=2"
   ]
  },
  {
   "cell_type": "code",
   "execution_count": null,
   "id": "d454048b",
   "metadata": {},
   "outputs": [],
   "source": [
    "N = 2\n",
    "m_max = 5\n",
    "g = 1\n",
    "\n",
    "Nstates = 2*m_max+1\n",
    "Id = id_op(Nstates)\n",
    "ops = RotorOps(m_max = m_max, g = g)\n",
    "Ki = ops.M2\n",
    "Vij = ops.Vij\n",
    "# expVij = abs.(round.(exp(-tau * Vij), digits=14))\n",
    "# # expVij = abs.(exp(-tau * Vij))\n",
    "\n",
    "K1 = kron(Ki,Id)\n",
    "K2 = kron(Id,Ki)\n",
    "\n",
    "K = K1 + K2\n",
    "\n",
    "V = Vij"
   ]
  },
  {
   "cell_type": "code",
   "execution_count": null,
   "id": "a8e006b9",
   "metadata": {},
   "outputs": [],
   "source": [
    "T = 0.1\n",
    "L = 300\n",
    "\n",
    "beta = 1.0/T\n",
    "tau = beta/L\n",
    "num_total_states = Nstates^N\n",
    "\n",
    "expK = abs.(round.(exp(-tau * K), digits=14))\n",
    "\n",
    "expV = abs.(round.(exp(-tau * V), digits=14))"
   ]
  },
  {
   "cell_type": "code",
   "execution_count": null,
   "id": "0c0a2f2e",
   "metadata": {},
   "outputs": [],
   "source": [
    "Psi_T = [1,1]*(m_max+1)\n",
    "m0 = map_vector2index(Nstates,Psi_T)\n",
    "\n",
    "rho = ((expK * expV)^(L-1)) * expK\n",
    "\n",
    "rho_aux = rho * expV\n",
    "\n",
    "Z0 = rho_aux[m0,m0]"
   ]
  },
  {
   "cell_type": "code",
   "execution_count": null,
   "id": "106e2a9e",
   "metadata": {},
   "outputs": [],
   "source": [
    "Z = 0.0\n",
    "E = 0.0\n",
    "aux = 0\n",
    "for p = 1:num_total_states\n",
    "    zp = expV[p,m0]\n",
    "    ep = 0\n",
    "    for a = 1:num_total_states\n",
    "        ep += expV[p,a] * V[a,m0]\n",
    "    end\n",
    "    if zp==0\n",
    "        println(ep)\n",
    "    end\n",
    "    Z += rho[m0,p] * zp\n",
    "    E += rho[m0,p] * ep\n",
    "end\n",
    "\n",
    "println(E,\"    \",Z,\"    \",E/Z)"
   ]
  },
  {
   "cell_type": "code",
   "execution_count": null,
   "id": "a0e06caa",
   "metadata": {},
   "outputs": [],
   "source": [
    "H = K + V\n",
    "F = eigen(H)\n",
    "F.values[1]"
   ]
  },
  {
   "cell_type": "markdown",
   "id": "6cda21c0",
   "metadata": {},
   "source": [
    "# N=3 rotors"
   ]
  },
  {
   "cell_type": "code",
   "execution_count": 4,
   "id": "47b10eae",
   "metadata": {},
   "outputs": [
    {
     "data": {
      "text/plain": [
       "1331×1331 Matrix{Float64}:\n",
       " 75.0   0.0   0.0    0.0    0.0    0.0   …   0.0    0.0    0.0    0.0    0.0\n",
       "  0.0  66.0   0.0    0.0    0.0    0.0       0.0    0.0    0.0    0.0    0.0\n",
       "  0.0   0.0  59.0    0.0    0.0    0.0       0.0    0.0    0.0    0.0    0.0\n",
       "  0.0   0.0   0.0   54.0    0.0    0.0       0.0    0.0    0.0    0.0    0.0\n",
       "  0.0   0.0   0.0    0.0   51.0    0.0       0.0    0.0    0.0    0.0    0.0\n",
       "  0.0   0.0   0.0    0.0    0.0   50.0   …   0.0    0.0    0.0    0.0    0.0\n",
       "  0.0   0.0   0.0    0.0    0.0    0.0      -0.75   0.0    0.0    0.0    0.0\n",
       "  0.0   0.0   0.0    0.0    0.0    0.0       0.0   -0.75   0.0    0.0    0.0\n",
       "  0.0   0.0   0.0    0.0    0.0    0.0       0.0    0.0   -0.75   0.0    0.0\n",
       "  0.0   0.0   0.0    0.0    0.0    0.0       0.0    0.0    0.0   -0.75   0.0\n",
       "  ⋮                                ⋮     ⋱                               ⋮\n",
       "  0.0   0.0  -0.75   0.0    0.0    0.0       0.0    0.0    0.0    0.0    0.0\n",
       "  0.0   0.0   0.0   -0.75   0.0    0.0       0.0    0.0    0.0    0.0    0.0\n",
       "  0.0   0.0   0.0    0.0   -0.75   0.0       0.0    0.0    0.0    0.0    0.0\n",
       "  0.0   0.0   0.0    0.0    0.0   -0.75  …   0.0    0.0    0.0    0.0    0.0\n",
       "  0.0   0.0   0.0    0.0    0.0    0.0      51.0    0.0    0.0    0.0    0.0\n",
       "  0.0   0.0   0.0    0.0    0.0    0.0       0.0   54.0    0.0    0.0    0.0\n",
       "  0.0   0.0   0.0    0.0    0.0    0.0       0.0    0.0   59.0    0.0    0.0\n",
       "  0.0   0.0   0.0    0.0    0.0    0.0       0.0    0.0    0.0   66.0    0.0\n",
       "  0.0   0.0   0.0    0.0    0.0    0.0   …   0.0    0.0    0.0    0.0   75.0"
      ]
     },
     "metadata": {},
     "output_type": "display_data"
    }
   ],
   "source": [
    "N = 3\n",
    "m_max = 5\n",
    "g = 1\n",
    "Nstates = 2*m_max+1\n",
    "Id = id_op(Nstates)\n",
    "ops = RotorOps(m_max = m_max, g = g)\n",
    "K = ops.M2\n",
    "Vij = ops.Vij\n",
    "# expVij = abs.(round.(exp(-tau * Vij), digits=14))\n",
    "# # expVij = abs.(exp(-tau * Vij))\n",
    "\n",
    "K1 = kron(K,Id,Id)\n",
    "K2 = kron(Id,K,Id)\n",
    "K3 = kron(Id,Id,K)\n",
    "\n",
    "K_total = K1 + K2 + K3\n",
    "\n",
    "V12 = kron(Vij,Id)\n",
    "V23 = kron(Id,Vij)\n",
    "V_total = (V12 + V23)\n",
    "\n",
    "H_total = K_total + V_total"
   ]
  },
  {
   "cell_type": "code",
   "execution_count": 22,
   "id": "148227e9",
   "metadata": {},
   "outputs": [
    {
     "data": {
      "text/plain": [
       "0.9475909313013755"
      ]
     },
     "metadata": {},
     "output_type": "display_data"
    }
   ],
   "source": [
    "F = eigen(H_total)\n",
    "ket_E0 = F.vectors[:,1]\n",
    "\n",
    "ket_E0'K_total'ket_E0"
   ]
  },
  {
   "cell_type": "code",
   "execution_count": null,
   "id": "172eb147",
   "metadata": {},
   "outputs": [],
   "source": []
  },
  {
   "cell_type": "markdown",
   "id": "c2ef0d98",
   "metadata": {},
   "source": [
    "# N=2 Rotors"
   ]
  },
  {
   "cell_type": "code",
   "execution_count": 25,
   "id": "59f1dbb8",
   "metadata": {},
   "outputs": [
    {
     "data": {
      "text/plain": [
       "121×121 Matrix{Float64}:\n",
       " 50.0    0.0    0.0    0.0    0.0   …   0.0    0.0    0.0    0.0   -0.75\n",
       "  0.0   41.0    0.0    0.0    0.0       0.0    0.0    0.0    0.0    0.0\n",
       "  0.0    0.0   34.0    0.0    0.0       0.0    0.0    0.0    0.0    0.0\n",
       "  0.0    0.0    0.0   29.0    0.0       0.0    0.0    0.0    0.0    0.0\n",
       "  0.0    0.0    0.0    0.0   26.0       0.0    0.0    0.0    0.0    0.0\n",
       "  0.0    0.0    0.0    0.0    0.0   …  -0.25   0.0    0.0    0.0    0.0\n",
       "  0.0    0.0    0.0    0.0    0.0       0.0   -0.25   0.0    0.0    0.0\n",
       "  0.0    0.0    0.0    0.0    0.0      -0.75   0.0   -0.25   0.0    0.0\n",
       "  0.0    0.0    0.0    0.0    0.0       0.0   -0.75   0.0   -0.25   0.0\n",
       "  0.0    0.0    0.0    0.0    0.0       0.0    0.0   -0.75   0.0   -0.25\n",
       "  ⋮                                 ⋱                               ⋮\n",
       "  0.0   -0.25   0.0   -0.75   0.0       0.0    0.0    0.0    0.0    0.0\n",
       "  0.0    0.0   -0.25   0.0   -0.75      0.0    0.0    0.0    0.0    0.0\n",
       "  0.0    0.0    0.0   -0.25   0.0       0.0    0.0    0.0    0.0    0.0\n",
       "  0.0    0.0    0.0    0.0   -0.25  …   0.0    0.0    0.0    0.0    0.0\n",
       "  0.0    0.0    0.0    0.0    0.0      26.0    0.0    0.0    0.0    0.0\n",
       "  0.0    0.0    0.0    0.0    0.0       0.0   29.0    0.0    0.0    0.0\n",
       "  0.0    0.0    0.0    0.0    0.0       0.0    0.0   34.0    0.0    0.0\n",
       "  0.0    0.0    0.0    0.0    0.0       0.0    0.0    0.0   41.0    0.0\n",
       " -0.75   0.0    0.0    0.0    0.0   …   0.0    0.0    0.0    0.0   50.0"
      ]
     },
     "metadata": {},
     "output_type": "display_data"
    }
   ],
   "source": [
    "N = 2\n",
    "m_max = 5\n",
    "g = 1\n",
    "Nstates = 2 * m_max + 1\n",
    "Id = id_op(Nstates)\n",
    "ops = RotorOps(m_max=m_max, g=g)\n",
    "K = ops.M2\n",
    "Vij = ops.Vij\n",
    "# expVij = abs.(round.(exp(-tau * Vij), digits=14))\n",
    "# # expVij = abs.(exp(-tau * Vij))\n",
    "\n",
    "K1 = kron(K, Id)\n",
    "K2 = kron(Id, K)\n",
    "\n",
    "K_total = K1 + K2\n",
    "\n",
    "V12 = Vij\n",
    "V_total = V12\n",
    "\n",
    "H_total = K_total + V_total"
   ]
  },
  {
   "cell_type": "code",
   "execution_count": 28,
   "id": "0bf34fb3",
   "metadata": {},
   "outputs": [
    {
     "data": {
      "text/plain": [
       "0.3941384464777084"
      ]
     },
     "metadata": {},
     "output_type": "display_data"
    }
   ],
   "source": [
    "F = eigen(H_total)\n",
    "ket_E0 = F.vectors[:, 1]\n",
    "\n",
    "ket_E0'K_total'ket_E0"
   ]
  },
  {
   "cell_type": "code",
   "execution_count": null,
   "id": "3e39d15c",
   "metadata": {},
   "outputs": [],
   "source": []
  },
  {
   "cell_type": "code",
   "execution_count": null,
   "id": "2c885b76",
   "metadata": {},
   "outputs": [],
   "source": []
  },
  {
   "cell_type": "code",
   "execution_count": null,
   "id": "fa5d5e82",
   "metadata": {},
   "outputs": [],
   "source": [
    "T = 0.1\n",
    "L = 100\n",
    "\n",
    "beta = 1.0/T\n",
    "tau = beta/L\n",
    "Nstates = 2*m_max+1\n",
    "num_total_states = Nstates^N\n",
    "\n",
    "# expK = abs.(round.(exp(-tau * K_total), digits=14))\n",
    "\n",
    "# expV12 = abs.(round.(exp(-tau * V12), digits=14))\n",
    "# expV23 = abs.(round.(exp(-tau * V23), digits=14))\n",
    "\n",
    "expK = abs.(exp(-tau * K_total))\n",
    "\n",
    "expV12 = abs.(exp(-tau * V12))\n",
    "expV23 = abs.(exp(-tau * V23))"
   ]
  },
  {
   "cell_type": "code",
   "execution_count": null,
   "id": "e5951175",
   "metadata": {},
   "outputs": [],
   "source": [
    "Psi_T = [1,1,1]*(m_max+1)\n",
    "m0 = map_vector2index(Nstates,Psi_T)\n",
    "\n",
    "rho = ((expK * expV12 * expV23)^(L-1)) * expK * expV12\n",
    "\n",
    "rho_aux = rho * expV23\n",
    "\n",
    "Z0 = rho_aux[m0,m0]"
   ]
  },
  {
   "cell_type": "code",
   "execution_count": null,
   "id": "83ceaccc",
   "metadata": {},
   "outputs": [],
   "source": [
    "Z = 0.0\n",
    "E = 0.0\n",
    "for p = 1:num_total_states\n",
    "\n",
    "    zp = expV23[p,m0]\n",
    "    ep = 0\n",
    "    for a = 1:num_total_states\n",
    "        ep += (expV23[p,a] * V_total[a,m0])\n",
    "    end\n",
    "    if (zp == 0) || (zp < 1e-14)\n",
    "        state = map_index2vector(Nstates, N, p) .- (m_max + 1)\n",
    "        if (ep != 0.0) || (ep > 1e-14)\n",
    "            println(\"term avoided: \", state,\"    energy contribution: \",ep)\n",
    "        end\n",
    "    end\n",
    "    Z += rho[m0,p] * zp\n",
    "    E += rho[m0,p] * ep\n",
    "end\n",
    "println(E,\"    \",Z,\"    \",E/Z)"
   ]
  },
  {
   "cell_type": "code",
   "execution_count": null,
   "id": "7cd55375",
   "metadata": {},
   "outputs": [],
   "source": [
    "e = 0.0\n",
    "for p = 1:num_total_states\n",
    "    for a = 1:num_total_states\n",
    "        e += rho[m0,p] * expV23[p,a] * V_total[a,m0]\n",
    "    end\n",
    "end\n",
    "e = e/Z0"
   ]
  },
  {
   "cell_type": "code",
   "execution_count": null,
   "id": "37abe382",
   "metadata": {},
   "outputs": [],
   "source": [
    "oper = rho_aux * V_total\n",
    "E = oper[m0,m0]\n",
    "E = E/Z0"
   ]
  },
  {
   "cell_type": "code",
   "execution_count": null,
   "id": "8ed269a9",
   "metadata": {},
   "outputs": [],
   "source": []
  },
  {
   "cell_type": "markdown",
   "id": "7f86583f",
   "metadata": {},
   "source": [
    "# Comparing end beads contribution"
   ]
  },
  {
   "cell_type": "code",
   "execution_count": 2,
   "id": "a245cb63",
   "metadata": {},
   "outputs": [
    {
     "data": {
      "text/plain": [
       "1331×1331 Matrix{Float64}:\n",
       "  0.0419972     1.02125e-17   0.000131683  …   7.56948e-6   -2.06854e-17\n",
       "  1.27946e-17   0.0907642     1.11751e-16     -3.389e-16     7.56948e-6\n",
       "  0.000131683   1.29276e-16   0.163254         2.37889e-9   -3.70375e-16\n",
       " -2.77783e-15   0.000219996   4.36841e-17     -1.89099e-12   2.44972e-9\n",
       "  4.60314e-8   -2.2267e-15    0.000311336     -7.48443e-13  -1.26109e-12\n",
       " -3.06405e-12   5.31451e-8   -1.93436e-15  …   6.88282e-10  -1.18693e-12\n",
       " -7.23549e-12  -9.90263e-13   5.41626e-8      -1.01428e-15   1.44358e-9\n",
       "  3.70396e-8   -1.24424e-11  -1.58569e-13      1.26391e-5   -8.12035e-16\n",
       " -3.39106e-15   3.22785e-8   -1.46971e-11     -2.60384e-16   7.97882e-6\n",
       "  8.45584e-5   -3.83321e-15   3.22737e-8       0.00575783   -1.15669e-16\n",
       "  ⋮                                        ⋱                 ⋮\n",
       "  7.97882e-6   -2.25432e-16   0.0101372        3.22785e-8   -3.42911e-15\n",
       " -8.39449e-16   1.26391e-5   -4.61254e-16     -1.24424e-11   3.70396e-8\n",
       "  1.44358e-9   -9.39223e-16   1.69431e-5      -9.90225e-13  -7.2355e-12\n",
       " -1.18694e-12   6.88283e-10  -9.57456e-16  …   5.31451e-8   -3.06405e-12\n",
       " -1.26108e-12  -7.48403e-13  -3.76144e-10     -2.27279e-15   4.60314e-8\n",
       "  2.44972e-9   -1.89107e-12  -5.63874e-13      0.000219996  -2.7382e-15\n",
       " -3.85806e-16   2.37889e-9   -2.15672e-12      1.10414e-16   0.000131683\n",
       "  7.56948e-6   -3.34369e-16   2.37889e-9       0.0907642    -7.12343e-18\n",
       " -2.04543e-17   7.56948e-6   -3.70301e-16  …  -9.14911e-18   0.0419972"
      ]
     },
     "metadata": {},
     "output_type": "display_data"
    }
   ],
   "source": [
    "N = 3\n",
    "m_max = 5\n",
    "g = 1\n",
    "Nstates = 2*m_max+1\n",
    "num_total_states = Nstates^N\n",
    "\n",
    "T = 0.1\n",
    "L = 100\n",
    "\n",
    "beta = 1.0/T\n",
    "tau = beta/L\n",
    "\n",
    "Id = id_op(Nstates)\n",
    "ops = RotorOps(m_max = m_max, g = g)\n",
    "K = ops.M2\n",
    "Vij = ops.Vij\n",
    "\n",
    "K1 = kron(K,Id,Id)\n",
    "K2 = kron(Id,K,Id)\n",
    "K3 = kron(Id,Id,K)\n",
    "\n",
    "K_total = K1 + K2 + K3\n",
    "\n",
    "V12 = kron(Vij,Id)\n",
    "V23 = kron(Id,Vij)\n",
    "V_total = V12 + V23\n",
    "\n",
    "H_total = K_total + V_total\n",
    "\n",
    "# expH = round.(abs.(exp(-tau * K_total)), digits=14)\n",
    "expH = abs.(exp(-tau * H_total))\n",
    "expH_H = expH * H_total"
   ]
  },
  {
   "cell_type": "code",
   "execution_count": 13,
   "id": "9e31fc9b",
   "metadata": {},
   "outputs": [
    {
     "name": "stdout",
     "output_type": "stream",
     "text": [
      "term avoided: [-5, -5, 4]    energy contribution: -1.9477281484604913e-13\n",
      "term avoided: [-5, -3, -3]    energy contribution: -1.9683824269462295e-13\n",
      "term avoided: [-5, -1, -4]    energy contribution: -6.124698605547695e-13\n",
      "term avoided: [-5, -1, -3]    energy contribution: -6.572754824729104e-13\n",
      "term avoided: [-5, -1, 3]    energy contribution: -1.3842730369646084e-13\n",
      "term avoided: [-5, 1, -4]    energy contribution: -2.0428662623766601e-13\n",
      "term avoided: [-5, 1, 3]    energy contribution: -4.152319182455468e-13\n",
      "term avoided: [-5, 2, -4]    energy contribution: -1.6927705507790908e-13\n",
      "term avoided: [-5, 3, 4]    energy contribution: -5.11386431582661e-13\n",
      "term avoided: [-5, 4, -4]    energy contribution: -4.505510059211466e-13\n",
      "term avoided: [-5, 4, -3]    energy contribution: -5.959348562616188e-13\n",
      "term avoided: [-4, -4, -3]    energy contribution: -3.0773049133037617e-13\n",
      "term avoided: [-4, -3, 2]    energy contribution: -4.640159791578742e-13\n",
      "term avoided: [-4, -3, 4]    energy contribution: -1.4094691650200174e-13\n",
      "term avoided: [-4, -3, 5]    energy contribution: -5.114045938413653e-13\n",
      "term avoided: [-4, -1, -5]    energy contribution: -6.124834018797667e-13\n",
      "term avoided: [-4, -1, -2]    energy contribution: -2.0525354360263703e-13\n",
      "term avoided: [-4, 1, -5]    energy contribution: -2.0427800142349427e-13\n",
      "term avoided: [-4, 1, -2]    energy contribution: -4.423185768756632e-13\n",
      "term avoided: [-4, 1, 2]    energy contribution: -2.0311360093127369e-13\n",
      "term avoided: [-4, 2, -5]    energy contribution: -1.6925145004581011e-13\n",
      "term avoided: [-4, 3, 4]    energy contribution: -1.4090147954326463e-13\n",
      "term avoided: [-4, 4, -5]    energy contribution: -4.505755629553047e-13\n",
      "term avoided: [-4, 5, 5]    energy contribution: -1.9470912404150604e-13\n",
      "term avoided: [-3, -4, -4]    energy contribution: -3.077265829808625e-13\n",
      "term avoided: [-3, -3, -5]    energy contribution: -1.9683691348383787e-13\n",
      "term avoided: [-3, -2, 0]    energy contribution: -1.3428768004282188e-13\n",
      "term avoided: [-3, -1, -5]    energy contribution: -6.57276622507367e-13\n",
      "term avoided: [-3, -1, 5]    energy contribution: -4.1522361793616393e-13\n",
      "term avoided: [-3, 0, 0]    energy contribution: -4.2406838093485015e-13\n",
      "term avoided: [-3, 1, -1]    energy contribution: -1.1875593263625057e-13\n",
      "term avoided: [-3, 1, 5]    energy contribution: -1.3843275334354706e-13\n",
      "term avoided: [-3, 2, 2]    energy contribution: -1.7888488769509925e-13\n",
      "term avoided: [-3, 4, -5]    energy contribution: -5.959216218553574e-13\n",
      "term avoided: [-2, -2, 1]    energy contribution: -1.8057039349617867e-13\n",
      "term avoided: [-2, -2, 3]    energy contribution: -1.7892186725230173e-13\n",
      "term avoided: [-2, -1, -4]    energy contribution: -2.0526127772129235e-13\n",
      "term avoided: [-2, -1, 4]    energy contribution: -2.0314887496102492e-13\n",
      "term avoided: [-2, 1, -4]    energy contribution: -4.4231125899267654e-13\n",
      "term avoided: [-2, 2, 1]    energy contribution: -5.419624404563124e-13\n",
      "term avoided: [-2, 3, 4]    energy contribution: -4.639239680516039e-13\n",
      "term avoided: [-1, -2, 0]    energy contribution: -3.113576985553762e-13\n",
      "term avoided: [-1, -2, 2]    energy contribution: -5.41873969764088e-13\n",
      "term avoided: [-1, 1, -3]    energy contribution: -1.187642402879022e-13\n",
      "term avoided: [-1, 2, 2]    energy contribution: -1.8060524464646936e-13\n",
      "term avoided: [0, -2, -3]    energy contribution: -1.3429075944171603e-13\n",
      "term avoided: [0, -2, -1]    energy contribution: -3.112982101994244e-13\n",
      "term avoided: [0, 0, -3]    energy contribution: -4.2409770013920107e-13\n",
      "term avoided: [0, 0, 3]    energy contribution: -4.2386677509892124e-13\n",
      "term avoided: [0, 2, 1]    energy contribution: -3.113750139619805e-13\n",
      "term avoided: [0, 2, 3]    energy contribution: -1.3432808936450307e-13\n",
      "term avoided: [1, -2, -2]    energy contribution: -1.8058917910588027e-13\n",
      "term avoided: [1, -1, 3]    energy contribution: -1.188351848738231e-13\n",
      "term avoided: [1, 2, -2]    energy contribution: -5.420380553982817e-13\n",
      "term avoided: [1, 2, 0]    energy contribution: -3.1149727914267487e-13\n",
      "term avoided: [2, -3, -4]    energy contribution: -4.639676226774258e-13\n",
      "term avoided: [2, -2, -1]    energy contribution: -5.418777184668205e-13\n",
      "term avoided: [2, -1, 4]    energy contribution: -4.423666028118356e-13\n",
      "term avoided: [2, 1, -4]    energy contribution: -2.0310866590281825e-13\n",
      "term avoided: [2, 1, 4]    energy contribution: -2.052727976199978e-13\n",
      "term avoided: [2, 2, -3]    energy contribution: -1.7889058893725317e-13\n",
      "term avoided: [2, 2, -1]    energy contribution: -1.8064640378643984e-13\n",
      "term avoided: [3, -4, 5]    energy contribution: -5.958916536993885e-13\n",
      "term avoided: [3, -2, -2]    energy contribution: -1.7895607023328007e-13\n",
      "term avoided: [3, -1, -5]    energy contribution: -1.3843864967627308e-13\n",
      "term avoided: [3, -1, 1]    energy contribution: -1.1885381315316958e-13\n",
      "term avoided: [3, 0, 0]    energy contribution: -4.239794428420298e-13\n",
      "term avoided: [3, 1, -5]    energy contribution: -4.1521743429453624e-13\n",
      "term avoided: [3, 1, 5]    energy contribution: -6.572368676142775e-13\n",
      "term avoided: [3, 2, 0]    energy contribution: -1.3432343643196376e-13\n",
      "term avoided: [3, 3, 5]    energy contribution: -1.9682605062904185e-13\n",
      "term avoided: [3, 4, 4]    energy contribution: -3.076335903460799e-13\n",
      "term avoided: [4, -5, -5]    energy contribution: -1.9478389963018961e-13\n",
      "term avoided: [4, -4, 5]    energy contribution: -4.505671410279e-13\n",
      "term avoided: [4, -3, -4]    energy contribution: -1.4089500042552023e-13\n",
      "term avoided: [4, -2, 5]    energy contribution: -1.692313790949308e-13\n",
      "term avoided: [4, -1, -2]    energy contribution: -2.0317923500562102e-13\n",
      "term avoided: [4, -1, 2]    energy contribution: -4.4232528486876826e-13\n",
      "term avoided: [4, -1, 5]    energy contribution: -2.0431046021836107e-13\n",
      "term avoided: [4, 1, 2]    energy contribution: -2.052561109661693e-13\n",
      "term avoided: [4, 1, 5]    energy contribution: -6.124388626443187e-13\n",
      "term avoided: [4, 3, -5]    energy contribution: -5.114491709391538e-13\n",
      "term avoided: [4, 3, -4]    energy contribution: -1.4087609268301559e-13\n",
      "term avoided: [4, 3, -2]    energy contribution: -4.639448982039907e-13\n",
      "term avoided: [4, 4, 3]    energy contribution: -3.07755066301374e-13\n",
      "term avoided: [5, -4, 3]    energy contribution: -5.958991414628487e-13\n",
      "term avoided: [5, -4, 4]    energy contribution: -4.505207219816884e-13\n",
      "term avoided: [5, -3, -4]    energy contribution: -5.115363238075422e-13\n",
      "term avoided: [5, -2, 4]    energy contribution: -1.6925390732075172e-13\n",
      "term avoided: [5, -1, -3]    energy contribution: -4.1521610954311456e-13\n",
      "term avoided: [5, -1, 4]    energy contribution: -2.0432979523868295e-13\n",
      "term avoided: [5, 1, -3]    energy contribution: -1.387640104112175e-13\n",
      "term avoided: [5, 1, 3]    energy contribution: -6.570406627364127e-13\n",
      "term avoided: [5, 1, 4]    energy contribution: -6.124741316917451e-13\n",
      "term avoided: [5, 3, 3]    energy contribution: -1.9682699434554304e-13\n",
      "term avoided: [5, 5, -4]    energy contribution: -1.9473961452208732e-13\n"
     ]
    }
   ],
   "source": [
    "Psi_T = [1,1,1]*(m_max+1)\n",
    "m0 = map_vector2index(Nstates,Psi_T)\n",
    "\n",
    "for p = 1:num_total_states\n",
    "    zp = expH[p,m0]\n",
    "    ep = expH_H[p,m0]\n",
    "    if (zp == 0) || (abs(zp) < 1e-14)\n",
    "        if (abs(ep) > 1e-13)\n",
    "            state = map_index2vector(Nstates, N, p) .- (m_max + 1)\n",
    "            println(\"term avoided: \", state,\"    energy contribution: \",ep)\n",
    "        end\n",
    "    end\n",
    "end"
   ]
  },
  {
   "cell_type": "code",
   "execution_count": 5,
   "id": "3d78c704",
   "metadata": {},
   "outputs": [
    {
     "name": "stdout",
     "output_type": "stream",
     "text": [
      "0.2\n",
      "-1.1902269552126148\n",
      "oi\n"
     ]
    }
   ],
   "source": [
    "L = 50\n",
    "tau = beta / L\n",
    "\n",
    "rho_trotter1 = ((exp_matrix(-tau * K) * exp_matrix(-tau * V))^L)\n",
    "rho_trotter2 = (exp_matrix(-0.5*tau*V) * exp_matrix(-tau*K) * exp_matrix(-0.5*tau*V))^L\n",
    "\n",
    "E0_trotter1 = ((rho_trotter1*H)[idx0, idx0]) / (rho_trotter1[idx0, idx0])\n",
    "E0_trotter2 = ((rho_trotter2*H)[idx0, idx0]) / (rho_trotter2[idx0, idx0])\n",
    "\n",
    "println(tau)\n",
    "# println(E0_trotter1)\n",
    "println(E0_trotter2)\n",
    "println(\"oi\")"
   ]
  },
  {
   "cell_type": "code",
   "execution_count": null,
   "id": "c52def03",
   "metadata": {},
   "outputs": [],
   "source": [
    "dig = 12\n",
    "x = round.(abs.(exp(-tau * V12)) * abs.(exp(-tau * V23)), digits=dig)\n",
    "y = round.(abs.(exp(-tau * (V12+V23))), digits=dig)\n",
    "\n",
    "x == y"
   ]
  },
  {
   "cell_type": "code",
   "execution_count": null,
   "id": "28c2f0bd",
   "metadata": {},
   "outputs": [],
   "source": [
    "V12*V23 == V23*V12"
   ]
  },
  {
   "cell_type": "code",
   "execution_count": null,
   "id": "c1c1c553",
   "metadata": {},
   "outputs": [],
   "source": [
    "2-1.18"
   ]
  },
  {
   "cell_type": "code",
   "execution_count": null,
   "id": "6f464817",
   "metadata": {},
   "outputs": [],
   "source": [
    "for i=1:1331\n",
    "    for j=1:1331\n",
    "        if expH[i,j] < 0.1\n",
    "            println(expH[i,j])\n",
    "        end\n",
    "    end\n",
    "end"
   ]
  },
  {
   "cell_type": "code",
   "execution_count": null,
   "id": "917788d3",
   "metadata": {},
   "outputs": [],
   "source": [
    "if 1 > 2 && 4>3\n",
    "    print(\"oi\")\n",
    "end"
   ]
  },
  {
   "cell_type": "code",
   "execution_count": null,
   "id": "e3ff6f68",
   "metadata": {},
   "outputs": [],
   "source": [
    "print(N)"
   ]
  },
  {
   "cell_type": "code",
   "execution_count": null,
   "id": "b1ef1842",
   "metadata": {},
   "outputs": [],
   "source": [
    "flush(stdout)"
   ]
  },
  {
   "cell_type": "code",
   "execution_count": null,
   "id": "2e8c77fa",
   "metadata": {},
   "outputs": [],
   "source": [
    "N = 3\n",
    "m_max = 5\n",
    "g = 1\n",
    "T = 0.1\n",
    "L = 50\n",
    "\n",
    "beta = 1.0/T\n",
    "tau = beta/L\n",
    "Nstates = 2*m_max+1\n",
    "\n",
    "if (N == 2)\t\t\n",
    "    P = L +1\n",
    "elseif (N > 2)\n",
    "    P = 2*L + 1        \n",
    "end\n",
    "tau"
   ]
  },
  {
   "cell_type": "code",
   "execution_count": null,
   "id": "92f77e53",
   "metadata": {},
   "outputs": [],
   "source": [
    "ops = RotorOps(m_max = m_max, g = g)\n",
    "Vij = ops.Vij\n",
    "expVij = abs.(round.(exp(-tau * Vij), digits=14))\n",
    "# expVij = abs.(exp(-tau * Vij))"
   ]
  },
  {
   "cell_type": "code",
   "execution_count": 12,
   "id": "af7abead",
   "metadata": {},
   "outputs": [
    {
     "data": {
      "text/plain": [
       "23.333333333333332"
      ]
     },
     "metadata": {},
     "output_type": "display_data"
    }
   ],
   "source": [
    "280/12"
   ]
  },
  {
   "cell_type": "code",
   "execution_count": null,
   "id": "b07e9f94",
   "metadata": {},
   "outputs": [],
   "source": []
  },
  {
   "cell_type": "code",
   "execution_count": null,
   "id": "f077060e",
   "metadata": {},
   "outputs": [],
   "source": []
  },
  {
   "cell_type": "code",
   "execution_count": null,
   "id": "ab406d6b",
   "metadata": {},
   "outputs": [],
   "source": [
    "# cluster = Dict{Float64,Vector{Int64}}()\n",
    "# for m1 = 1:Ngrid\n",
    "#     for m2 = 1:Ngrid\n",
    "#         for m1p = 1:Ngrid\n",
    "#             for m2p = 1:Ngrid\n",
    "# \t\t\t\tidx = map_vector2index(PI.Nstates, [m1,m2, m1p, m2p])\n",
    "#                 m_el = mel([m1, m2], rho, [m1p, m2p])\n",
    "\n",
    "# \t\t\t\tif m_el != 0\n",
    "#                     if m_el in keys(cluster)\n",
    "#                         append!(cluster[m_el], idx)\n",
    "# \t\t\t\t\telse\n",
    "#                         push!(cluster, m_el => [idx])\n",
    "# \t\t\t\t\tend\n",
    "\n",
    "# \t\t\t\tend\n",
    "\t\t\t\t\n",
    "#             end\n",
    "#         end\n",
    "#     end\n",
    "# end\n",
    "# cluster = sort(cluster)\n",
    "# cluster_new = Dict{Tuple{String,Float64},Vector{Int64}}()\n",
    "# count = 1\n",
    "# for key in keys(cluster)\n",
    "# \tkey_new = tuple(string(\"C\",count),key)\n",
    "# \tprintln(key_new)\n",
    "#     push!(cluster_new, key_new  => cluster[key])\n",
    "# \tcount += 1\n",
    "# end\n",
    "\n",
    "cluster = Dict{Float64, Vector{Vector{Int64}}}()\n",
    "for m1 = 1:Nstates\n",
    "    for m2 = 1:Nstates\n",
    "        for m1p = 1:Nstates\n",
    "            for m2p = 1:Nstates\n",
    "\t\t\t\tidx = map_vector2index(Nstates, [m1,m2, m1p, m2p])\n",
    "                m_el = mel([m1, m2], expVij, [m1p, m2p])\n",
    "                M = [m1,m2, m1p, m2p] .- (m_max+1)\n",
    "\t\t\t\tif m_el != 0\n",
    "                    if m_el in keys(cluster)\n",
    "                        append!(cluster[m_el], [M])\n",
    "\t\t\t\t\telse\n",
    "                        push!(cluster, m_el => [M])\n",
    "\t\t\t\t\tend\n",
    "\n",
    "\t\t\t\tend\n",
    "\t\t\t\t\n",
    "            end\n",
    "        end\n",
    "    end\n",
    "end\n",
    "cluster = sort(cluster)"
   ]
  },
  {
   "cell_type": "code",
   "execution_count": null,
   "id": "4e4a3147",
   "metadata": {},
   "outputs": [],
   "source": [
    "open(\"out_cluster.txt\", \"w\") do file\n",
    "    count = 1\n",
    "    for key in keys(cluster)\n",
    "        space = repeat(\" \",20-length(string(key)))\n",
    "        ans = string(key, space, cluster[key][:], \"\\n\")\n",
    "        write(file, ans)\n",
    "\t\tcount += 1\n",
    "    end\n",
    "end"
   ]
  },
  {
   "cell_type": "code",
   "execution_count": null,
   "id": "ade11ce0",
   "metadata": {},
   "outputs": [],
   "source": []
  },
  {
   "cell_type": "code",
   "execution_count": null,
   "id": "de39fb2c",
   "metadata": {},
   "outputs": [],
   "source": [
    "cluster_int = Dict{Float64,Vector{Tuple{Int64,Int64}}}()\n",
    "for m1 = 1:Ngrid\n",
    "    for m2 = 1:Ngrid\n",
    "        for m1p = 1:Ngrid\n",
    "            for m2p = 1:Ngrid\n",
    "                for m3p = 1:Ngrid\n",
    "                    for m2pp = 1:Ngrid\n",
    "                        for m3pp = 1:Ngrid\n",
    "                            m_el = round(\n",
    "                                mel([m1, m2], rho, [m1p, m2p]) *\n",
    "                                mel([m2p, m3p], rho, [m2pp, m3pp]), digits=15)\n",
    "                            if m_el != 0\n",
    "                                idx1 = map_vector2index(Ngrid, [m1, m2, m1p, m2p])\n",
    "                                idx2 = map_vector2index(Ngrid, [m2p, m3p, m2pp, m3pp])\n",
    "                                if m_el in keys(cluster_int)\n",
    "                                    append!(cluster_int[m_el], [(idx1,idx2)])\n",
    "\t\t\t\t\t\t\t\telse\n",
    "                                    push!(cluster_int, m_el => [(idx1,idx2)])\n",
    "\t\t\t\t\t\t\t\tend\n",
    "                                \n",
    "                            end\n",
    "                        end\n",
    "                    end\n",
    "                end\n",
    "            end\n",
    "        end\n",
    "    end\n",
    "end\n",
    "# cluster_int = sort(cluster_int)"
   ]
  },
  {
   "cell_type": "code",
   "execution_count": null,
   "id": "6152c015",
   "metadata": {},
   "outputs": [],
   "source": [
    "open(\"out_cluster.txt\", \"w\") do file\n",
    "    count = 1\n",
    "    for key in keys(cluster)\n",
    "        for index in \n",
    "        particles = map_index2vector(Nstates, 4, index)\n",
    "        ans = string(key, \"   P\",count,\":\", cluster[key], \"\\n\")\n",
    "        write(file, ans)\n",
    "\t\tcount += 1\n",
    "    end\n",
    "end"
   ]
  },
  {
   "cell_type": "code",
   "execution_count": null,
   "id": "9caf5240",
   "metadata": {},
   "outputs": [],
   "source": [
    "dim = length(cluster)\n",
    "vec =[]\n",
    "for keyi in keys(cluster)\n",
    "\tfor keyj in keys(cluster)\n",
    "\t\tprod = round(keyi * keyj, digits=14)\n",
    "\t\tif (prod ∉ vec)\n",
    "\t\t\tappend!(vec, [prod])\n",
    "\t\tend\n",
    "\tend\n",
    "end\n",
    "vec_sorted = sort(vec)\n",
    "# for i=1:length(vec)\n",
    "# println(i,\"  \", vec[i])\n",
    "# end\n",
    "\n",
    "open(\"out_cluster_prods.txt\", \"w\") do file\n",
    "\tfor key in vec_sorted\n",
    "\t\tans = string(key, \"\\n\")\n",
    "\t\twrite(file, ans)\n",
    "\tend\n",
    "end"
   ]
  },
  {
   "cell_type": "code",
   "execution_count": null,
   "id": "8686ce3e",
   "metadata": {},
   "outputs": [],
   "source": [
    "open(\"out_cluster_int.txt\", \"w\") do file\n",
    "    for key in keys(cluster_int)\n",
    "        ans = string(key, \"    \", cluster_int[key], \"\\n\")\n",
    "        write(file, ans)\n",
    "    end    \n",
    "end"
   ]
  },
  {
   "cell_type": "code",
   "execution_count": null,
   "id": "f19e292f",
   "metadata": {},
   "outputs": [],
   "source": [
    "map_index2vector(Ngrid, 4, 14397)"
   ]
  },
  {
   "cell_type": "code",
   "execution_count": null,
   "id": "1bd77d7a",
   "metadata": {},
   "outputs": [],
   "source": [
    "N = 3\n",
    "m_max = 5\n",
    "Nstates = 2*m_max+1\n",
    "num_total_states = Nstates^N\n",
    "for index = 1:num_total_states\n",
    "    Malpha = map_index2vector(Nstates, N, index)\n",
    "    println(Malpha[:])\n",
    "end\n"
   ]
  },
  {
   "cell_type": "code",
   "execution_count": null,
   "id": "5f49d55b",
   "metadata": {},
   "outputs": [],
   "source": []
  },
  {
   "cell_type": "code",
   "execution_count": null,
   "id": "dab2f84d",
   "metadata": {},
   "outputs": [],
   "source": []
  },
  {
   "cell_type": "markdown",
   "id": "650974c0",
   "metadata": {},
   "source": [
    "### Testing how sparse the density matrices are"
   ]
  },
  {
   "cell_type": "code",
   "execution_count": null,
   "id": "2a99111d",
   "metadata": {},
   "outputs": [],
   "source": [
    "MC_steps = 1000\n",
    "N = 2\n",
    "g = 10\n",
    "T = 0.1\n",
    "L = 45\n",
    "\n",
    "for m = 1:15\n",
    "\tPI = PathIntegral(N=N, m_max=m, g=g, L=L, MC_steps=MC_steps, T=T)\n",
    "\tops = RotorOps(m_max=PI.m_max, g=PI.g)\n",
    "\tVij = ops.Vij\n",
    "\tKij = ops.Kij\n",
    "\tId = id_op(PI.Nstates)\n",
    "\tHij = Vij + Kij\n",
    "\t# expVij = exp(-PI.tau * Vij)\n",
    "\t# expKij = exp(-0.5 * PI.tau * Kij)\n",
    "\t# rho = round.(expKij * expVij * expKij, digits=14)\n",
    "    rho = abs.(round.(exp(-PI.tau * Hij), digits=14))\n",
    "\tNgrid = PI.Nstates\n",
    "\n",
    "\tcount = 0\n",
    "\tfor m1 = 1:Ngrid\n",
    "\t\tfor m2 = 1:Ngrid\n",
    "\t\t\tfor m1p = 1:Ngrid\n",
    "\t\t\t\tfor m2p = 1:Ngrid\n",
    "                    idx = map_vector2index(PI.Nstates, [m1, m2, m1p, m2p])\n",
    "\t\t\t\t\tm_el = mel([m1, m2], rho, [m1p, m2p])\n",
    "\t\t\t\t\tif m_el < 0\n",
    "\t\t\t\t\t\tprintln(m_el)\n",
    "\t\t\t\t\t\tcount += 1\n",
    "\t\t\t\t\tend\n",
    "\t\t\t\tend\n",
    "\t\t\tend\n",
    "\t\tend\n",
    "\tend\n",
    "\n",
    "\tprintln(\"m_max=\",m,\"   non-zero matrix elements:  \",round((count*100)/(Ngrid^4), digits = 2),\"%\")\n",
    "\n",
    "end"
   ]
  },
  {
   "cell_type": "code",
   "execution_count": null,
   "id": "53a4b268",
   "metadata": {},
   "outputs": [],
   "source": []
  },
  {
   "cell_type": "code",
   "execution_count": null,
   "id": "7cec5206",
   "metadata": {},
   "outputs": [],
   "source": [
    "g = 1\n",
    "\n",
    "for m = 1:15\n",
    "\tPI = PathIntegral(N=N, m_max=m, g=g, L=L, MC_steps=MC_steps, T=T)\n",
    "\tops = RotorOps(m_max=PI.m_max, g=PI.g)\n",
    "\tVij = ops.Vij\n",
    "\tKij = ops.Kij\n",
    "\tId = id_op(PI.Nstates)\n",
    "\tHij = Vij + Kij\n",
    "\t# expVij = exp(-PI.tau * Vij)\n",
    "\t# expKij = exp(-0.5 * PI.tau * Kij)\n",
    "\t# rho = round.(expKij * expVij * expKij, digits=14)\n",
    "    rho = abs.(round.(exp(-PI.tau * Hij), digits=14))\n",
    "\tNgrid = PI.Nstates\n",
    "\n",
    "\tcount = 0\n",
    "\tfor m1 = 1:Ngrid\n",
    "\t\tfor m2 = 1:Ngrid\n",
    "\t\t\tfor m1p = 1:Ngrid\n",
    "\t\t\t\tfor m2p = 1:Ngrid\n",
    "                    idx = map_vector2index(PI.Nstates, [m1, m2, m1p, m2p])\n",
    "\t\t\t\t\tm_el = mel([m1, m2], rho, [m1p, m2p])\n",
    "\t\t\t\t\tif m_el < 0\n",
    "\t\t\t\t\t\tprintln(m_el)\n",
    "\t\t\t\t\t\tcount += 1\n",
    "\t\t\t\t\tend\n",
    "\t\t\t\tend\n",
    "\t\t\tend\n",
    "\t\tend\n",
    "\tend\n",
    "\n",
    "\tprintln(\"m_max=\",m,\"   non-zero matrix elements:  \",round((count*100)/(Ngrid^4), digits = 2),\"%\")\n",
    "\n",
    "end"
   ]
  },
  {
   "cell_type": "code",
   "execution_count": null,
   "id": "99d22d8a",
   "metadata": {},
   "outputs": [],
   "source": [
    "m_max = 5\n",
    "Ngrid = 2*m_max+1\n",
    "g=1\n",
    "\n",
    "ops = RotorOps(m_max=m_max, g=g)\n",
    "Vij = ops.Vij\n",
    "K = ops.M2\n",
    "Id = id_op(ops.Ngrid)\n",
    "\n",
    "\n",
    "K1 = kron(K, id_op(Ngrid), id_op(Ngrid))\n",
    "K2 = kron(id_op(Ngrid), K, id_op(Ngrid))\n",
    "K3 = kron(id_op(Ngrid), id_op(Ngrid), K)\n",
    "\n",
    "V12 = kron(Vij, id_op(Ngrid))\n",
    "V23 = kron(id_op(Ngrid), Vij)\n",
    "\n",
    "K_total = K1+K2+K3\n",
    "V_total = V12+V23\n",
    "\n",
    "H = K_total + V_total\n",
    "# F = eigen(H)\n",
    "# F.values[1]"
   ]
  },
  {
   "cell_type": "code",
   "execution_count": null,
   "id": "45a7279f",
   "metadata": {},
   "outputs": [],
   "source": [
    "Psi_T = [1,1,1]*(m_max+1)\n",
    "idx = map_vector2index(Ngrid,Psi_T)\n",
    "\n",
    "T=0.0005\n",
    "\n",
    "beta = 1/T\n",
    "\n",
    "# E0 = []\n",
    "# E0_trotter = []\n",
    "# tau_list = []\n",
    "\n",
    "rho = exp(-beta*H)\n",
    "est = (rho*H)[idx,idx]/rho[idx,idx]\n",
    "\n",
    "# for l = 10:10:100\n",
    "\n",
    "#     tau = beta/l\n",
    "#     expK = exp(-tau*K_total)\n",
    "#     expV = exp(-tau*V_total)\n",
    "#     rho_trotter = (expK*expV)^l\n",
    "\n",
    "#     est_trotter = (rho_trotter*H)[idx,idx]/rho_trotter[idx,idx]\n",
    "#     append!(tau_list, tau)\n",
    "#     append!(E0, est)\n",
    "#     append!(E0_trotter, est_trotter)\n",
    "# end"
   ]
  },
  {
   "cell_type": "code",
   "execution_count": null,
   "id": "a6d4bcfc",
   "metadata": {},
   "outputs": [],
   "source": [
    "using PyPlot\n",
    "plt.clf()\n",
    "plt.plot(tau_list, E0, color=\"blue\", linewidth=2.0, linestyle=\"--\")\n",
    "plt.plot(tau_list, E0_trotter, color=\"red\", linewidth=2.0, linestyle=\"--\")\n",
    "gcf()"
   ]
  },
  {
   "cell_type": "code",
   "execution_count": null,
   "id": "b80e65b6",
   "metadata": {},
   "outputs": [],
   "source": []
  },
  {
   "cell_type": "code",
   "execution_count": null,
   "id": "7d5feff8",
   "metadata": {},
   "outputs": [],
   "source": [
    "N = 3\n",
    "m_max = 5\n",
    "g = 1.0\n",
    "T = 0.1\n",
    "L = 1000\n",
    "tau = 1/(T*L)\n",
    "\n",
    "Nstates = 2*m_max+1\n",
    "\n",
    "ops = RotorOps(m_max = m_max, g = g)\n",
    "Vij = ops.Vij\n",
    "expVij = (exp_matrix(-tau * Vij))\n",
    "\n",
    "m0 = m_max+1\n",
    "m0_vec = ones(Int64, N) * (m0-4)\n",
    "\n",
    "\n",
    "num_total_states = Nstates^N\n",
    "E0 = 0\n",
    "\n",
    "for index = 1:num_total_states\n",
    "    Malpha = map_index2vector(Nstates, N, index)\n",
    "                        \n",
    "    rho = 1\n",
    "    gamma = 0\n",
    "    for i=1:N-1\n",
    "        remain_Malpha = append!(Malpha[1:i-1],Malpha[i+2:N])\n",
    "        remain_path = append!(m0_vec[1:i-1],m0_vec[i+2:N])\n",
    "\n",
    "        if remain_Malpha == remain_path\n",
    "            if (i%2==0)\n",
    "                rho *= (mel(m0_vec[i:i+1], expVij, Malpha[i:i+1])\n",
    "                /\n",
    "                mel(m0_vec[i:i+1], expVij, m0_vec[i:i+1])\n",
    "            )\n",
    "            end\n",
    "            gamma += mel(Malpha[i:i+1], Vij, m0_vec[i:i+1]) \t\t\t\t\t\t\t\t                          \t                            \n",
    "        end\n",
    "    end\n",
    "    E0 += rho*gamma\t\t\t\t\n",
    "end\n",
    "\n",
    "print(E0)"
   ]
  },
  {
   "cell_type": "code",
   "execution_count": null,
   "id": "393c2c9b",
   "metadata": {},
   "outputs": [],
   "source": [
    "wait_for_key(prompt) = (print(stdout, prompt); read(stdin, 1); nothing)"
   ]
  },
  {
   "cell_type": "code",
   "execution_count": null,
   "id": "537ae102",
   "metadata": {},
   "outputs": [],
   "source": []
  },
  {
   "cell_type": "code",
   "execution_count": null,
   "id": "c012d68c",
   "metadata": {},
   "outputs": [],
   "source": [
    "N = 3\n",
    "m_max = 5\n",
    "g = 1.0\n",
    "T = 0.1\n",
    "L = 10\n",
    "tau = 1/(T*L)\n",
    "\n",
    "Nstates = 2*m_max+1\n",
    "\n",
    "ops = RotorOps(m_max = m_max, g = g)\n",
    "Vij = ops.Vij\n",
    "expVij = (exp_matrix(-tau * Vij))\n",
    "for mi = 1:Nstates\n",
    "    for mj = 1:Nstates\n",
    "        for mk = 1:Nstates\n",
    "            for ml = 1:Nstates                       \n",
    "                mel_expVij = mel([mi,mj], expVij, [mk,ml])\n",
    "\n",
    "                idx = map_vector2index(PI.Nstates, [mi,mj,mk,ml])\n",
    "            end\n",
    "        end\n",
    "    end\n",
    "end"
   ]
  },
  {
   "cell_type": "code",
   "execution_count": null,
   "id": "673b094f",
   "metadata": {},
   "outputs": [],
   "source": [
    "V = zeros(Int64, (5, 5))"
   ]
  },
  {
   "cell_type": "code",
   "execution_count": null,
   "id": "6aa80a42",
   "metadata": {},
   "outputs": [],
   "source": [
    "V[1,3] = V[3,1] = V[5,3] = V[3,5] = 3\n",
    "V[2,3] = V[3,2] = V[3,4] = V[4,3] = 1"
   ]
  },
  {
   "cell_type": "code",
   "execution_count": null,
   "id": "92327a1a",
   "metadata": {},
   "outputs": [],
   "source": [
    "F = eigen(V)"
   ]
  },
  {
   "cell_type": "code",
   "execution_count": null,
   "id": "c90416a3",
   "metadata": {},
   "outputs": [],
   "source": [
    "F.values"
   ]
  },
  {
   "cell_type": "code",
   "execution_count": null,
   "id": "6e121d1a",
   "metadata": {},
   "outputs": [],
   "source": [
    "N = 3\n",
    "m_max = 5\n",
    "g = 1.0\n",
    "Nstates = 2*m_max+1\n",
    "\n",
    "m0 = m_max + 1\n",
    "idx0 = map_vector2index(Nstates, [m0, m0, m0])\n",
    "\n",
    "ops = RotorOps(m_max=m_max, g=g)\n",
    "Vij = ops.Vij\n",
    "Ki = ops.M2\n",
    "Id = id_op(Nstates)\n",
    "\n",
    "K = kron(Ki, Id, Id) + kron(Id, Ki, Id) + kron(Id, Id, Ki)\n",
    "V = kron(Vij, Id) + kron(Id, Vij)\n",
    "H = K + V"
   ]
  }
 ],
 "metadata": {
  "kernelspec": {
   "display_name": "Julia 1.9.2",
   "language": "julia",
   "name": "julia-1.9"
  },
  "language_info": {
   "file_extension": ".jl",
   "mimetype": "application/julia",
   "name": "julia",
   "version": "1.9.2"
  }
 },
 "nbformat": 4,
 "nbformat_minor": 5
}
